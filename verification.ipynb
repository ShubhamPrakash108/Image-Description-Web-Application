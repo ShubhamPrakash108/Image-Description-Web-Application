{
  "cells": [
    {
      "cell_type": "code",
      "execution_count": 2,
      "metadata": {
        "colab": {
          "base_uri": "https://localhost:8080/"
        },
        "id": "3pFZ_8kgl2gv",
        "outputId": "b395e45b-4f85-4b20-eb91-11a259f778e7"
      },
      "outputs": [
        {
          "output_type": "stream",
          "name": "stdout",
          "text": [
            "Caption: a large crowd of people at a carnival\n"
          ]
        }
      ],
      "source": [
        "import requests\n",
        "from PIL import Image\n",
        "from io import BytesIO\n",
        "\n",
        "api_url = 'https://0407-35-247-104-50.ngrok-free.app/generate-caption/'\n",
        "\n",
        "image_path = '/content/download.jpg'\n",
        "\n",
        "with Image.open(image_path) as img:\n",
        "    img = img.convert('RGB')\n",
        "    buffered = BytesIO()\n",
        "    img.save(buffered, format='JPEG')\n",
        "    image_bytes = buffered.getvalue()\n",
        "\n",
        "files = {\n",
        "    \"file\": ('/content/64977073.jpg', image_bytes, \"image/jpeg\")\n",
        "}\n",
        "\n",
        "try:\n",
        "    response = requests.post(api_url, files=files)\n",
        "    response.raise_for_status()\n",
        "\n",
        "    try:\n",
        "        caption = response.json()[\"caption\"]\n",
        "        print(\"Caption:\", caption)\n",
        "    except ValueError as e:\n",
        "        print(f\"Response Content is not valid JSON: {e}\")\n",
        "    except KeyError as e:\n",
        "        print(f\"Response does not contain 'caption': {e}\")\n",
        "\n",
        "except requests.exceptions.HTTPError as e:\n",
        "    print(f\"HTTP Error: {e}\")\n",
        "except requests.exceptions.RequestException as e:\n",
        "    print(f\"Request Exception: {e}\")\n"
      ]
    }
  ],
  "metadata": {
    "colab": {
      "provenance": []
    },
    "kernelspec": {
      "display_name": "Python 3",
      "name": "python3"
    },
    "language_info": {
      "name": "python"
    }
  },
  "nbformat": 4,
  "nbformat_minor": 0
}